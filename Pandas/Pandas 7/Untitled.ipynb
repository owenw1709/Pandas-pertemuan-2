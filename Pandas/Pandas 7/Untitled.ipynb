{
 "cells": [
  {
   "cell_type": "code",
   "execution_count": 1,
   "id": "1324203b",
   "metadata": {},
   "outputs": [
    {
     "name": "stdout",
     "output_type": "stream",
     "text": [
      "1.3.4\n"
     ]
    }
   ],
   "source": [
    "import pandas as pd\n",
    "\n",
    "print(pd.__version__)"
   ]
  },
  {
   "cell_type": "code",
   "execution_count": 2,
   "id": "9cd1c6aa",
   "metadata": {},
   "outputs": [
    {
     "name": "stderr",
     "output_type": "stream",
     "text": [
      "C:\\Users\\Owen Willianto\\anaconda3\\lib\\site-packages\\pandas\\util\\__init__.py:15: FutureWarning: pandas.util.testing is deprecated. Use the functions in the public API at pandas.testing instead.\n",
      "  import pandas.util.testing\n"
     ]
    },
    {
     "data": {
      "text/html": [
       "<div>\n",
       "<style scoped>\n",
       "    .dataframe tbody tr th:only-of-type {\n",
       "        vertical-align: middle;\n",
       "    }\n",
       "\n",
       "    .dataframe tbody tr th {\n",
       "        vertical-align: top;\n",
       "    }\n",
       "\n",
       "    .dataframe thead th {\n",
       "        text-align: right;\n",
       "    }\n",
       "</style>\n",
       "<table border=\"1\" class=\"dataframe\">\n",
       "  <thead>\n",
       "    <tr style=\"text-align: right;\">\n",
       "      <th></th>\n",
       "      <th>index</th>\n",
       "      <th>A</th>\n",
       "      <th>B</th>\n",
       "      <th>C</th>\n",
       "      <th>D</th>\n",
       "    </tr>\n",
       "  </thead>\n",
       "  <tbody>\n",
       "    <tr>\n",
       "      <th>0</th>\n",
       "      <td>JRYPhzk9sG</td>\n",
       "      <td>-0.095479</td>\n",
       "      <td>-2.171022</td>\n",
       "      <td>NaN</td>\n",
       "      <td>-0.296413</td>\n",
       "    </tr>\n",
       "    <tr>\n",
       "      <th>1</th>\n",
       "      <td>IalEaTLFC1</td>\n",
       "      <td>-2.136979</td>\n",
       "      <td>-1.398298</td>\n",
       "      <td>-1.075014</td>\n",
       "      <td>0.826280</td>\n",
       "    </tr>\n",
       "    <tr>\n",
       "      <th>2</th>\n",
       "      <td>MOw4wTkZVa</td>\n",
       "      <td>-0.950973</td>\n",
       "      <td>1.462100</td>\n",
       "      <td>-1.662702</td>\n",
       "      <td>-0.576952</td>\n",
       "    </tr>\n",
       "    <tr>\n",
       "      <th>3</th>\n",
       "      <td>7R2pA815sd</td>\n",
       "      <td>0.989816</td>\n",
       "      <td>-0.384373</td>\n",
       "      <td>0.027917</td>\n",
       "      <td>NaN</td>\n",
       "    </tr>\n",
       "    <tr>\n",
       "      <th>4</th>\n",
       "      <td>kKplLU4koF</td>\n",
       "      <td>-0.733578</td>\n",
       "      <td>0.614246</td>\n",
       "      <td>NaN</td>\n",
       "      <td>-1.586415</td>\n",
       "    </tr>\n",
       "  </tbody>\n",
       "</table>\n",
       "</div>"
      ],
      "text/plain": [
       "        index         A         B         C         D\n",
       "0  JRYPhzk9sG -0.095479 -2.171022       NaN -0.296413\n",
       "1  IalEaTLFC1 -2.136979 -1.398298 -1.075014  0.826280\n",
       "2  MOw4wTkZVa -0.950973  1.462100 -1.662702 -0.576952\n",
       "3  7R2pA815sd  0.989816 -0.384373  0.027917       NaN\n",
       "4  kKplLU4koF -0.733578  0.614246       NaN -1.586415"
      ]
     },
     "execution_count": 2,
     "metadata": {},
     "output_type": "execute_result"
    }
   ],
   "source": [
    "df = pd.util.testing.makeMissingDataframe().reset_index()\n",
    "df.head()"
   ]
  },
  {
   "cell_type": "code",
   "execution_count": 3,
   "id": "de368bff",
   "metadata": {},
   "outputs": [
    {
     "data": {
      "text/html": [
       "<div>\n",
       "<style scoped>\n",
       "    .dataframe tbody tr th:only-of-type {\n",
       "        vertical-align: middle;\n",
       "    }\n",
       "\n",
       "    .dataframe tbody tr th {\n",
       "        vertical-align: top;\n",
       "    }\n",
       "\n",
       "    .dataframe thead th {\n",
       "        text-align: right;\n",
       "    }\n",
       "</style>\n",
       "<table border=\"1\" class=\"dataframe\">\n",
       "  <thead>\n",
       "    <tr style=\"text-align: right;\">\n",
       "      <th></th>\n",
       "      <th>z</th>\n",
       "      <th>A</th>\n",
       "      <th>B</th>\n",
       "      <th>C</th>\n",
       "      <th>D</th>\n",
       "    </tr>\n",
       "  </thead>\n",
       "  <tbody>\n",
       "    <tr>\n",
       "      <th>0</th>\n",
       "      <td>JRYPhzk9sG</td>\n",
       "      <td>-0.095479</td>\n",
       "      <td>-2.171022</td>\n",
       "      <td>NaN</td>\n",
       "      <td>-0.296413</td>\n",
       "    </tr>\n",
       "    <tr>\n",
       "      <th>1</th>\n",
       "      <td>IalEaTLFC1</td>\n",
       "      <td>-2.136979</td>\n",
       "      <td>-1.398298</td>\n",
       "      <td>-1.075014</td>\n",
       "      <td>0.826280</td>\n",
       "    </tr>\n",
       "    <tr>\n",
       "      <th>2</th>\n",
       "      <td>MOw4wTkZVa</td>\n",
       "      <td>-0.950973</td>\n",
       "      <td>1.462100</td>\n",
       "      <td>-1.662702</td>\n",
       "      <td>-0.576952</td>\n",
       "    </tr>\n",
       "    <tr>\n",
       "      <th>3</th>\n",
       "      <td>7R2pA815sd</td>\n",
       "      <td>0.989816</td>\n",
       "      <td>-0.384373</td>\n",
       "      <td>0.027917</td>\n",
       "      <td>NaN</td>\n",
       "    </tr>\n",
       "    <tr>\n",
       "      <th>4</th>\n",
       "      <td>kKplLU4koF</td>\n",
       "      <td>-0.733578</td>\n",
       "      <td>0.614246</td>\n",
       "      <td>NaN</td>\n",
       "      <td>-1.586415</td>\n",
       "    </tr>\n",
       "  </tbody>\n",
       "</table>\n",
       "</div>"
      ],
      "text/plain": [
       "            z         A         B         C         D\n",
       "0  JRYPhzk9sG -0.095479 -2.171022       NaN -0.296413\n",
       "1  IalEaTLFC1 -2.136979 -1.398298 -1.075014  0.826280\n",
       "2  MOw4wTkZVa -0.950973  1.462100 -1.662702 -0.576952\n",
       "3  7R2pA815sd  0.989816 -0.384373  0.027917       NaN\n",
       "4  kKplLU4koF -0.733578  0.614246       NaN -1.586415"
      ]
     },
     "execution_count": 3,
     "metadata": {},
     "output_type": "execute_result"
    }
   ],
   "source": [
    "df = df.rename(columns={'index':'z'})\n",
    "df.head()"
   ]
  },
  {
   "cell_type": "code",
   "execution_count": 4,
   "id": "219ca4f8",
   "metadata": {},
   "outputs": [],
   "source": [
    "df_backup = df.copy(deep=True)"
   ]
  },
  {
   "cell_type": "code",
   "execution_count": 6,
   "id": "e6ece645",
   "metadata": {},
   "outputs": [
    {
     "data": {
      "text/html": [
       "<div>\n",
       "<style scoped>\n",
       "    .dataframe tbody tr th:only-of-type {\n",
       "        vertical-align: middle;\n",
       "    }\n",
       "\n",
       "    .dataframe tbody tr th {\n",
       "        vertical-align: top;\n",
       "    }\n",
       "\n",
       "    .dataframe thead th {\n",
       "        text-align: right;\n",
       "    }\n",
       "</style>\n",
       "<table border=\"1\" class=\"dataframe\">\n",
       "  <thead>\n",
       "    <tr style=\"text-align: right;\">\n",
       "      <th></th>\n",
       "      <th>z</th>\n",
       "    </tr>\n",
       "  </thead>\n",
       "  <tbody>\n",
       "    <tr>\n",
       "      <th>0</th>\n",
       "      <td>JRYPhzk9sG</td>\n",
       "    </tr>\n",
       "    <tr>\n",
       "      <th>1</th>\n",
       "      <td>IalEaTLFC1</td>\n",
       "    </tr>\n",
       "    <tr>\n",
       "      <th>2</th>\n",
       "      <td>MOw4wTkZVa</td>\n",
       "    </tr>\n",
       "    <tr>\n",
       "      <th>3</th>\n",
       "      <td>7R2pA815sd</td>\n",
       "    </tr>\n",
       "    <tr>\n",
       "      <th>4</th>\n",
       "      <td>kKplLU4koF</td>\n",
       "    </tr>\n",
       "  </tbody>\n",
       "</table>\n",
       "</div>"
      ],
      "text/plain": [
       "            z\n",
       "0  JRYPhzk9sG\n",
       "1  IalEaTLFC1\n",
       "2  MOw4wTkZVa\n",
       "3  7R2pA815sd\n",
       "4  kKplLU4koF"
      ]
     },
     "execution_count": 6,
     "metadata": {},
     "output_type": "execute_result"
    }
   ],
   "source": [
    "df = df.dropna(axis='columns')\n",
    "df.head()"
   ]
  },
  {
   "cell_type": "code",
   "execution_count": 7,
   "id": "f4ab67cb",
   "metadata": {},
   "outputs": [
    {
     "data": {
      "text/html": [
       "<div>\n",
       "<style scoped>\n",
       "    .dataframe tbody tr th:only-of-type {\n",
       "        vertical-align: middle;\n",
       "    }\n",
       "\n",
       "    .dataframe tbody tr th {\n",
       "        vertical-align: top;\n",
       "    }\n",
       "\n",
       "    .dataframe thead th {\n",
       "        text-align: right;\n",
       "    }\n",
       "</style>\n",
       "<table border=\"1\" class=\"dataframe\">\n",
       "  <thead>\n",
       "    <tr style=\"text-align: right;\">\n",
       "      <th></th>\n",
       "      <th>z</th>\n",
       "      <th>A</th>\n",
       "      <th>B</th>\n",
       "      <th>C</th>\n",
       "      <th>D</th>\n",
       "    </tr>\n",
       "  </thead>\n",
       "  <tbody>\n",
       "    <tr>\n",
       "      <th>1</th>\n",
       "      <td>IalEaTLFC1</td>\n",
       "      <td>-2.136979</td>\n",
       "      <td>-1.398298</td>\n",
       "      <td>-1.075014</td>\n",
       "      <td>0.826280</td>\n",
       "    </tr>\n",
       "    <tr>\n",
       "      <th>2</th>\n",
       "      <td>MOw4wTkZVa</td>\n",
       "      <td>-0.950973</td>\n",
       "      <td>1.462100</td>\n",
       "      <td>-1.662702</td>\n",
       "      <td>-0.576952</td>\n",
       "    </tr>\n",
       "    <tr>\n",
       "      <th>5</th>\n",
       "      <td>zEm338YBS0</td>\n",
       "      <td>-0.996102</td>\n",
       "      <td>1.662415</td>\n",
       "      <td>-0.670828</td>\n",
       "      <td>1.421489</td>\n",
       "    </tr>\n",
       "    <tr>\n",
       "      <th>6</th>\n",
       "      <td>GFO4fSUpa3</td>\n",
       "      <td>-1.960147</td>\n",
       "      <td>-0.046020</td>\n",
       "      <td>0.726397</td>\n",
       "      <td>-0.615248</td>\n",
       "    </tr>\n",
       "    <tr>\n",
       "      <th>9</th>\n",
       "      <td>JBO1AHhxIi</td>\n",
       "      <td>0.331200</td>\n",
       "      <td>-0.284031</td>\n",
       "      <td>0.259454</td>\n",
       "      <td>0.043459</td>\n",
       "    </tr>\n",
       "  </tbody>\n",
       "</table>\n",
       "</div>"
      ],
      "text/plain": [
       "            z         A         B         C         D\n",
       "1  IalEaTLFC1 -2.136979 -1.398298 -1.075014  0.826280\n",
       "2  MOw4wTkZVa -0.950973  1.462100 -1.662702 -0.576952\n",
       "5  zEm338YBS0 -0.996102  1.662415 -0.670828  1.421489\n",
       "6  GFO4fSUpa3 -1.960147 -0.046020  0.726397 -0.615248\n",
       "9  JBO1AHhxIi  0.331200 -0.284031  0.259454  0.043459"
      ]
     },
     "execution_count": 7,
     "metadata": {},
     "output_type": "execute_result"
    }
   ],
   "source": [
    "df = df_backup.copy(deep=True)\n",
    "df = df.dropna(axis='rows')\n",
    "df.head()"
   ]
  },
  {
   "cell_type": "code",
   "execution_count": 8,
   "id": "e668115d",
   "metadata": {},
   "outputs": [
    {
     "data": {
      "text/plain": [
       "z    0.000000\n",
       "A    0.100000\n",
       "B    0.100000\n",
       "C    0.133333\n",
       "D    0.066667\n",
       "dtype: float64"
      ]
     },
     "execution_count": 8,
     "metadata": {},
     "output_type": "execute_result"
    }
   ],
   "source": [
    "df = df_backup.copy(deep=True)\n",
    "df.isna().mean()"
   ]
  },
  {
   "cell_type": "code",
   "execution_count": 10,
   "id": "39c20cd1",
   "metadata": {},
   "outputs": [
    {
     "data": {
      "text/html": [
       "<div>\n",
       "<style scoped>\n",
       "    .dataframe tbody tr th:only-of-type {\n",
       "        vertical-align: middle;\n",
       "    }\n",
       "\n",
       "    .dataframe tbody tr th {\n",
       "        vertical-align: top;\n",
       "    }\n",
       "\n",
       "    .dataframe thead th {\n",
       "        text-align: right;\n",
       "    }\n",
       "</style>\n",
       "<table border=\"1\" class=\"dataframe\">\n",
       "  <thead>\n",
       "    <tr style=\"text-align: right;\">\n",
       "      <th></th>\n",
       "      <th>z</th>\n",
       "      <th>A</th>\n",
       "      <th>B</th>\n",
       "      <th>D</th>\n",
       "    </tr>\n",
       "  </thead>\n",
       "  <tbody>\n",
       "    <tr>\n",
       "      <th>0</th>\n",
       "      <td>JRYPhzk9sG</td>\n",
       "      <td>-0.095479</td>\n",
       "      <td>-2.171022</td>\n",
       "      <td>-0.296413</td>\n",
       "    </tr>\n",
       "    <tr>\n",
       "      <th>1</th>\n",
       "      <td>IalEaTLFC1</td>\n",
       "      <td>-2.136979</td>\n",
       "      <td>-1.398298</td>\n",
       "      <td>0.826280</td>\n",
       "    </tr>\n",
       "    <tr>\n",
       "      <th>2</th>\n",
       "      <td>MOw4wTkZVa</td>\n",
       "      <td>-0.950973</td>\n",
       "      <td>1.462100</td>\n",
       "      <td>-0.576952</td>\n",
       "    </tr>\n",
       "    <tr>\n",
       "      <th>3</th>\n",
       "      <td>7R2pA815sd</td>\n",
       "      <td>0.989816</td>\n",
       "      <td>-0.384373</td>\n",
       "      <td>NaN</td>\n",
       "    </tr>\n",
       "    <tr>\n",
       "      <th>4</th>\n",
       "      <td>kKplLU4koF</td>\n",
       "      <td>-0.733578</td>\n",
       "      <td>0.614246</td>\n",
       "      <td>-1.586415</td>\n",
       "    </tr>\n",
       "  </tbody>\n",
       "</table>\n",
       "</div>"
      ],
      "text/plain": [
       "            z         A         B         D\n",
       "0  JRYPhzk9sG -0.095479 -2.171022 -0.296413\n",
       "1  IalEaTLFC1 -2.136979 -1.398298  0.826280\n",
       "2  MOw4wTkZVa -0.950973  1.462100 -0.576952\n",
       "3  7R2pA815sd  0.989816 -0.384373       NaN\n",
       "4  kKplLU4koF -0.733578  0.614246 -1.586415"
      ]
     },
     "execution_count": 10,
     "metadata": {},
     "output_type": "execute_result"
    }
   ],
   "source": [
    "treshold =len(df)*0.9\n",
    "df = df.dropna(thresh=treshold,axis='columns')\n",
    "df.head()"
   ]
  },
  {
   "cell_type": "code",
   "execution_count": null,
   "id": "fb4ba49d",
   "metadata": {},
   "outputs": [],
   "source": []
  }
 ],
 "metadata": {
  "kernelspec": {
   "display_name": "Python 3 (ipykernel)",
   "language": "python",
   "name": "python3"
  },
  "language_info": {
   "codemirror_mode": {
    "name": "ipython",
    "version": 3
   },
   "file_extension": ".py",
   "mimetype": "text/x-python",
   "name": "python",
   "nbconvert_exporter": "python",
   "pygments_lexer": "ipython3",
   "version": "3.9.7"
  }
 },
 "nbformat": 4,
 "nbformat_minor": 5
}
